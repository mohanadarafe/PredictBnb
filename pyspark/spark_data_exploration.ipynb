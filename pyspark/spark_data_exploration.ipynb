{
 "cells": [
  {
   "cell_type": "code",
   "execution_count": 9,
   "id": "elegant-toner",
   "metadata": {},
   "outputs": [],
   "source": [
    "import csv\n",
    "import os\n",
    "import sys\n",
    "# Spark imports\n",
    "from pyspark.rdd import RDD\n",
    "from pyspark.sql import DataFrame\n",
    "from pyspark.sql import SparkSession\n",
    "from pyspark.sql.functions import desc\n",
    "# Dask imports\n",
    "import dask.bag as db\n",
    "import dask.dataframe as df  # you can use Dask bags or dataframes\n",
    "from csv import reader\n",
    "import pandas as pd"
   ]
  },
  {
   "cell_type": "code",
   "execution_count": 10,
   "id": "unlike-truth",
   "metadata": {},
   "outputs": [],
   "source": [
    "# Initialize a spark session.\n",
    "def init_spark():\n",
    "    spark = SparkSession \\\n",
    "        .builder \\\n",
    "        .appName(\"Python Spark SQL basic example\") \\\n",
    "        .config(\"spark.some.config.option\", \"some-value\") \\\n",
    "        .getOrCreate()\n",
    "    return spark"
   ]
  },
  {
   "cell_type": "code",
   "execution_count": 11,
   "id": "greek-stations",
   "metadata": {},
   "outputs": [],
   "source": [
    "spark = init_spark()"
   ]
  },
  {
   "cell_type": "markdown",
   "id": "another-pittsburgh",
   "metadata": {},
   "source": [
    "# Extract the data and build the model"
   ]
  },
  {
   "cell_type": "code",
   "execution_count": 12,
   "id": "spare-minute",
   "metadata": {},
   "outputs": [],
   "source": [
    "filename_train = \"./dataset/train.csv\"\n",
    "filename_test = \"./dataset/valid.csv\""
   ]
  },
  {
   "cell_type": "markdown",
   "id": "disabled-roberts",
   "metadata": {},
   "source": [
    "### Using pandas"
   ]
  },
  {
   "cell_type": "code",
   "execution_count": 21,
   "id": "abstract-burns",
   "metadata": {},
   "outputs": [
    {
     "data": {
      "text/plain": [
       "45000"
      ]
     },
     "execution_count": 21,
     "metadata": {},
     "output_type": "execute_result"
    }
   ],
   "source": [
    "df_2 = pd.read_csv(filename_train)\n",
    "len(df_2)"
   ]
  },
  {
   "cell_type": "code",
   "execution_count": 25,
   "id": "domestic-reviewer",
   "metadata": {},
   "outputs": [
    {
     "data": {
      "text/html": [
       "<div>\n",
       "<style scoped>\n",
       "    .dataframe tbody tr th:only-of-type {\n",
       "        vertical-align: middle;\n",
       "    }\n",
       "\n",
       "    .dataframe tbody tr th {\n",
       "        vertical-align: top;\n",
       "    }\n",
       "\n",
       "    .dataframe thead th {\n",
       "        text-align: right;\n",
       "    }\n",
       "</style>\n",
       "<table border=\"1\" class=\"dataframe\">\n",
       "  <thead>\n",
       "    <tr style=\"text-align: right;\">\n",
       "      <th></th>\n",
       "      <th>Id</th>\n",
       "      <th>Title</th>\n",
       "      <th>Body</th>\n",
       "      <th>Tags</th>\n",
       "      <th>CreationDate</th>\n",
       "      <th>Y</th>\n",
       "    </tr>\n",
       "  </thead>\n",
       "  <tbody>\n",
       "    <tr>\n",
       "      <th>0</th>\n",
       "      <td>34552656</td>\n",
       "      <td>Java: Repeat Task Every Random Seconds</td>\n",
       "      <td>&lt;p&gt;I'm already familiar with repeating tasks e...</td>\n",
       "      <td>&lt;java&gt;&lt;repeat&gt;</td>\n",
       "      <td>2016-01-01 00:21:59</td>\n",
       "      <td>LQ_CLOSE</td>\n",
       "    </tr>\n",
       "    <tr>\n",
       "      <th>1</th>\n",
       "      <td>34553034</td>\n",
       "      <td>Why are Java Optionals immutable?</td>\n",
       "      <td>&lt;p&gt;I'd like to understand why Java 8 Optionals...</td>\n",
       "      <td>&lt;java&gt;&lt;optional&gt;</td>\n",
       "      <td>2016-01-01 02:03:20</td>\n",
       "      <td>HQ</td>\n",
       "    </tr>\n",
       "    <tr>\n",
       "      <th>2</th>\n",
       "      <td>34553174</td>\n",
       "      <td>Text Overlay Image with Darkened Opacity React...</td>\n",
       "      <td>&lt;p&gt;I am attempting to overlay a title over an ...</td>\n",
       "      <td>&lt;javascript&gt;&lt;image&gt;&lt;overlay&gt;&lt;react-native&gt;&lt;opa...</td>\n",
       "      <td>2016-01-01 02:48:24</td>\n",
       "      <td>HQ</td>\n",
       "    </tr>\n",
       "    <tr>\n",
       "      <th>3</th>\n",
       "      <td>34553318</td>\n",
       "      <td>Why ternary operator in swift is so picky?</td>\n",
       "      <td>&lt;p&gt;The question is very simple, but I just cou...</td>\n",
       "      <td>&lt;swift&gt;&lt;operators&gt;&lt;whitespace&gt;&lt;ternary-operato...</td>\n",
       "      <td>2016-01-01 03:30:17</td>\n",
       "      <td>HQ</td>\n",
       "    </tr>\n",
       "    <tr>\n",
       "      <th>4</th>\n",
       "      <td>34553755</td>\n",
       "      <td>hide/show fab with scale animation</td>\n",
       "      <td>&lt;p&gt;I'm using custom floatingactionmenu. I need...</td>\n",
       "      <td>&lt;android&gt;&lt;material-design&gt;&lt;floating-action-but...</td>\n",
       "      <td>2016-01-01 05:21:48</td>\n",
       "      <td>HQ</td>\n",
       "    </tr>\n",
       "  </tbody>\n",
       "</table>\n",
       "</div>"
      ],
      "text/plain": [
       "         Id                                              Title  \\\n",
       "0  34552656             Java: Repeat Task Every Random Seconds   \n",
       "1  34553034                  Why are Java Optionals immutable?   \n",
       "2  34553174  Text Overlay Image with Darkened Opacity React...   \n",
       "3  34553318         Why ternary operator in swift is so picky?   \n",
       "4  34553755                 hide/show fab with scale animation   \n",
       "\n",
       "                                                Body  \\\n",
       "0  <p>I'm already familiar with repeating tasks e...   \n",
       "1  <p>I'd like to understand why Java 8 Optionals...   \n",
       "2  <p>I am attempting to overlay a title over an ...   \n",
       "3  <p>The question is very simple, but I just cou...   \n",
       "4  <p>I'm using custom floatingactionmenu. I need...   \n",
       "\n",
       "                                                Tags         CreationDate  \\\n",
       "0                                     <java><repeat>  2016-01-01 00:21:59   \n",
       "1                                   <java><optional>  2016-01-01 02:03:20   \n",
       "2  <javascript><image><overlay><react-native><opa...  2016-01-01 02:48:24   \n",
       "3  <swift><operators><whitespace><ternary-operato...  2016-01-01 03:30:17   \n",
       "4  <android><material-design><floating-action-but...  2016-01-01 05:21:48   \n",
       "\n",
       "          Y  \n",
       "0  LQ_CLOSE  \n",
       "1        HQ  \n",
       "2        HQ  \n",
       "3        HQ  \n",
       "4        HQ  "
      ]
     },
     "execution_count": 25,
     "metadata": {},
     "output_type": "execute_result"
    }
   ],
   "source": [
    "df_2.head()"
   ]
  },
  {
   "cell_type": "markdown",
   "id": "american-destiny",
   "metadata": {},
   "source": [
    "### Using spark dataframe"
   ]
  },
  {
   "cell_type": "code",
   "execution_count": 27,
   "id": "fantastic-brand",
   "metadata": {},
   "outputs": [],
   "source": [
    "df_train = spark.read.csv(filename_train,  sep=',', header=True)"
   ]
  },
  {
   "cell_type": "code",
   "execution_count": 28,
   "id": "surface-wallpaper",
   "metadata": {},
   "outputs": [
    {
     "data": {
      "text/plain": [
       "869081"
      ]
     },
     "execution_count": 28,
     "metadata": {},
     "output_type": "execute_result"
    }
   ],
   "source": [
    "df_train.count()"
   ]
  },
  {
   "cell_type": "code",
   "execution_count": 11,
   "id": "wrapped-yukon",
   "metadata": {},
   "outputs": [],
   "source": [
    "df_val = spark.read.csv(filename_test, header=True)"
   ]
  },
  {
   "cell_type": "code",
   "execution_count": 12,
   "id": "cardiovascular-ebony",
   "metadata": {},
   "outputs": [
    {
     "data": {
      "text/plain": [
       "287339"
      ]
     },
     "execution_count": 12,
     "metadata": {},
     "output_type": "execute_result"
    }
   ],
   "source": [
    "df_val.count()"
   ]
  },
  {
   "cell_type": "code",
   "execution_count": 25,
   "id": "cutting-reproduction",
   "metadata": {},
   "outputs": [],
   "source": [
    "df_train_rdd = spark.sparkContext.textFile(filename)"
   ]
  },
  {
   "cell_type": "code",
   "execution_count": 15,
   "id": "invisible-pottery",
   "metadata": {},
   "outputs": [
    {
     "ename": "NameError",
     "evalue": "name 'df_train_rdd' is not defined",
     "output_type": "error",
     "traceback": [
      "\u001b[0;31m---------------------------------------------------------------------------\u001b[0m",
      "\u001b[0;31mNameError\u001b[0m                                 Traceback (most recent call last)",
      "\u001b[0;32m<ipython-input-15-b06bac86d92c>\u001b[0m in \u001b[0;36m<module>\u001b[0;34m()\u001b[0m\n\u001b[0;32m----> 1\u001b[0;31m \u001b[0mdf_train_rdd\u001b[0m\u001b[0;34m.\u001b[0m\u001b[0mmap\u001b[0m\u001b[0;34m(\u001b[0m\u001b[0;32mlambda\u001b[0m \u001b[0ml\u001b[0m\u001b[0;34m:\u001b[0m \u001b[0ml\u001b[0m\u001b[0;34m.\u001b[0m\u001b[0msplit\u001b[0m\u001b[0;34m(\u001b[0m\u001b[0;34m',\"'\u001b[0m\u001b[0;34m)\u001b[0m\u001b[0;34m)\u001b[0m\u001b[0;34m.\u001b[0m\u001b[0mtake\u001b[0m\u001b[0;34m(\u001b[0m\u001b[0;36m5\u001b[0m\u001b[0;34m)\u001b[0m\u001b[0;34m\u001b[0m\u001b[0m\n\u001b[0m",
      "\u001b[0;31mNameError\u001b[0m: name 'df_train_rdd' is not defined"
     ]
    }
   ],
   "source": [
    "df_train_rdd.map(lambda l: l.split(',')).take(5)"
   ]
  },
  {
   "cell_type": "code",
   "execution_count": 19,
   "id": "rural-brick",
   "metadata": {},
   "outputs": [
    {
     "name": "stdout",
     "output_type": "stream",
     "text": [
      "+--------------------+--------------------+--------------------+----+------------+----+\n",
      "|                  Id|               Title|                Body|Tags|CreationDate|   Y|\n",
      "+--------------------+--------------------+--------------------+----+------------+----+\n",
      "|            34552656|Java: Repeat Task...|\"<p>I'm already f...|null|        null|null|\n",
      "|,<java><repeat>,2...|                null|                null|null|        null|null|\n",
      "|            34553034|Why are Java Opti...|<p>I'd like to un...|null|        null|null|\n",
      "|,<java><optional>...|                null|                null|null|        null|null|\n",
      "+--------------------+--------------------+--------------------+----+------------+----+\n",
      "only showing top 4 rows\n",
      "\n"
     ]
    }
   ],
   "source": [
    "df_train.show(4)"
   ]
  },
  {
   "cell_type": "code",
   "execution_count": 29,
   "id": "romance-poverty",
   "metadata": {},
   "outputs": [],
   "source": [
    "df_rdd = spark.read.csv(filename_train, header=True)"
   ]
  },
  {
   "cell_type": "code",
   "execution_count": 30,
   "id": "ruled-actress",
   "metadata": {
    "scrolled": true
   },
   "outputs": [
    {
     "data": {
      "text/plain": [
       "[Row(Id='34552656', Title='Java: Repeat Task Every Random Seconds', Body='\"<p>I\\'m already familiar with repeating tasks every n seconds by using Java.util.Timer and Java.util.TimerTask. But lets say I want to print \"\"Hello World\"\" to the console every random seconds from 1-5. Unfortunately I\\'m in a bit of a rush and don\\'t have any code to show so far. Any help would be apriciated.  </p>', Tags=None, CreationDate=None, Y=None),\n",
       " Row(Id=',<java><repeat>,2016-01-01 00:21:59,LQ_CLOSE', Title=None, Body=None, Tags=None, CreationDate=None, Y=None)]"
      ]
     },
     "execution_count": 30,
     "metadata": {},
     "output_type": "execute_result"
    }
   ],
   "source": [
    "df_rdd.take(2)"
   ]
  },
  {
   "cell_type": "code",
   "execution_count": 32,
   "id": "equivalent-sport",
   "metadata": {},
   "outputs": [],
   "source": [
    "fixed_df_format = spark.read.csv(filename_train, header=True, multiLine=True, inferSchema=True, escape='\"', quote='\"')"
   ]
  },
  {
   "cell_type": "code",
   "execution_count": 33,
   "id": "adjacent-attribute",
   "metadata": {},
   "outputs": [
    {
     "name": "stdout",
     "output_type": "stream",
     "text": [
      "+--------+--------------------+--------------------+--------------------+-------------------+--------+\n",
      "|      Id|               Title|                Body|                Tags|       CreationDate|       Y|\n",
      "+--------+--------------------+--------------------+--------------------+-------------------+--------+\n",
      "|34552656|Java: Repeat Task...|<p>I'm already fa...|      <java><repeat>|2016-01-01 00:21:59|LQ_CLOSE|\n",
      "|34553034|Why are Java Opti...|<p>I'd like to un...|    <java><optional>|2016-01-01 02:03:20|      HQ|\n",
      "|34553174|Text Overlay Imag...|<p>I am attemptin...|<javascript><imag...|2016-01-01 02:48:24|      HQ|\n",
      "|34553318|Why ternary opera...|<p>The question i...|<swift><operators...|2016-01-01 03:30:17|      HQ|\n",
      "+--------+--------------------+--------------------+--------------------+-------------------+--------+\n",
      "only showing top 4 rows\n",
      "\n"
     ]
    }
   ],
   "source": [
    "fixed_df_format.show(4)\n"
   ]
  },
  {
   "cell_type": "code",
   "execution_count": 34,
   "id": "interstate-medicaid",
   "metadata": {},
   "outputs": [
    {
     "data": {
      "text/plain": [
       "45000"
      ]
     },
     "execution_count": 34,
     "metadata": {},
     "output_type": "execute_result"
    }
   ],
   "source": [
    "fixed_df_format.count()"
   ]
  },
  {
   "cell_type": "code",
   "execution_count": null,
   "id": "silver-bradley",
   "metadata": {},
   "outputs": [],
   "source": []
  }
 ],
 "metadata": {
  "kernelspec": {
   "display_name": "Python 3",
   "language": "python",
   "name": "python3"
  },
  "language_info": {
   "codemirror_mode": {
    "name": "ipython",
    "version": 3
   },
   "file_extension": ".py",
   "mimetype": "text/x-python",
   "name": "python",
   "nbconvert_exporter": "python",
   "pygments_lexer": "ipython3",
   "version": "3.5.6"
  }
 },
 "nbformat": 4,
 "nbformat_minor": 5
}
