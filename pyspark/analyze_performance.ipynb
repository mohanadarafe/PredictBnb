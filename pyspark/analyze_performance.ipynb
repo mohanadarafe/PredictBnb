{
 "cells": [
  {
   "cell_type": "code",
   "execution_count": 10,
   "metadata": {},
   "outputs": [],
   "source": [
    "import matplotlib as plt\n",
    "import json"
   ]
  },
  {
   "cell_type": "code",
   "execution_count": 11,
   "metadata": {},
   "outputs": [],
   "source": [
    "processes = {}\n",
    "with open('./processes_info.json') as f:\n",
    "    processes = json.load(f)"
   ]
  },
  {
   "cell_type": "code",
   "execution_count": 13,
   "metadata": {},
   "outputs": [
    {
     "name": "stdout",
     "output_type": "stream",
     "text": [
      "[{'Memory_usage': '0.16 GiB', 'Create time': '2021-04-13 13:12:51', 'PID': 833, 'Nb of threads': 24, 'CPU in use': '0.00%', 'Memory in use': '0.98%', 'Time on CPU': '0:00:03.445227', 'Uptime': '0:24:08.780648', 'Current time': '2021-04-13 13:37:00', 'Process name': 'java'}, {'Memory_usage': '0.06 GiB', 'Create time': '2021-04-13 13:34:34', 'PID': 1317, 'Nb of threads': 6, 'CPU in use': '0.60%', 'Memory in use': '0.35%', 'Time on CPU': '0:00:01.548461', 'Uptime': '0:02:25.403916', 'Current time': '2021-04-13 13:37:00', 'Process name': 'python3.5'}, {'Memory_usage': '1.32 GiB', 'Create time': '2021-04-13 13:34:35', 'PID': 1320, 'Nb of threads': 267, 'CPU in use': '134.80%', 'Memory in use': '8.24%', 'Time on CPU': '0:03:23.497320', 'Uptime': '0:02:24.954530', 'Current time': '2021-04-13 13:37:00', 'Process name': 'java'}, {'Memory_usage': '0.03 GiB', 'Create time': '2021-04-13 13:34:43', 'PID': 1333, 'Nb of threads': 1, 'CPU in use': '0.00%', 'Memory in use': '0.22%', 'Time on CPU': '0:00:00.451147', 'Uptime': '0:02:16.815667', 'Current time': '2021-04-13 13:37:00', 'Process name': 'python3.5'}, {'Memory_usage': '0.03 GiB', 'Create time': '2021-04-13 13:36:26', 'PID': 1339, 'Nb of threads': 1, 'CPU in use': '0.00%', 'Memory in use': '0.19%', 'Time on CPU': '0:00:29.222434', 'Uptime': '0:00:33.875484', 'Current time': '2021-04-13 13:37:00', 'Process name': 'python3.5'}]\n"
     ]
    }
   ],
   "source": [
    "print(processes['processes'])"
   ]
  },
  {
   "cell_type": "code",
   "execution_count": 16,
   "metadata": {},
   "outputs": [
    {
     "name": "stdout",
     "output_type": "stream",
     "text": [
      "java\n",
      "python3.5\n",
      "java\n",
      "python3.5\n",
      "python3.5\n"
     ]
    }
   ],
   "source": [
    "create_times = []\n",
    "time_on_cpu = []\n",
    "cpu_in_use = []\n",
    "for p in processes['processes']:\n",
    "    print(p['Process name'])\n",
    "    create_times.append(p['Create time'])\n",
    "    time_on_cpu.append(p['Time on CPU'])\n",
    "    cpu_in_use.append(p['CPU in use'])\n",
    "    "
   ]
  },
  {
   "cell_type": "code",
   "execution_count": 17,
   "metadata": {},
   "outputs": [
    {
     "name": "stdout",
     "output_type": "stream",
     "text": [
      "['2021-04-13 13:12:51', '2021-04-13 13:34:34', '2021-04-13 13:34:35', '2021-04-13 13:34:43', '2021-04-13 13:36:26']\n",
      "['0:00:03.445227', '0:00:01.548461', '0:03:23.497320', '0:00:00.451147', '0:00:29.222434']\n",
      "['0.00%', '0.60%', '134.80%', '0.00%', '0.00%']\n"
     ]
    }
   ],
   "source": [
    "print(create_times)\n",
    "print(time_on_cpu)\n",
    "print(cpu_in_use)"
   ]
  },
  {
   "cell_type": "code",
   "execution_count": 18,
   "metadata": {},
   "outputs": [
    {
     "ename": "TypeError",
     "evalue": "'list' object cannot be interpreted as an integer",
     "output_type": "error",
     "traceback": [
      "\u001b[0;31m---------------------------------------------------------------------------\u001b[0m",
      "\u001b[0;31mTypeError\u001b[0m                                 Traceback (most recent call last)",
      "\u001b[0;32m<ipython-input-18-6ec4f848517a>\u001b[0m in \u001b[0;36m<module>\u001b[0;34m()\u001b[0m\n\u001b[0;32m----> 1\u001b[0;31m \u001b[0;32mfor\u001b[0m \u001b[0mi\u001b[0m \u001b[0;32min\u001b[0m \u001b[0mrange\u001b[0m\u001b[0;34m(\u001b[0m\u001b[0mcpu_in_use\u001b[0m\u001b[0;34m)\u001b[0m\u001b[0;34m:\u001b[0m\u001b[0;34m\u001b[0m\u001b[0m\n\u001b[0m\u001b[1;32m      2\u001b[0m     \u001b[0mcpu_in_use\u001b[0m\u001b[0;34m[\u001b[0m\u001b[0mi\u001b[0m\u001b[0;34m]\u001b[0m \u001b[0;34m=\u001b[0m \u001b[0mint\u001b[0m\u001b[0;34m(\u001b[0m\u001b[0mcpu_in_use\u001b[0m\u001b[0;34m[\u001b[0m\u001b[0mi\u001b[0m\u001b[0;34m]\u001b[0m\u001b[0;34m.\u001b[0m\u001b[0mreplace\u001b[0m\u001b[0;34m(\u001b[0m\u001b[0;34m'%'\u001b[0m\u001b[0;34m,\u001b[0m\u001b[0;34m''\u001b[0m\u001b[0;34m)\u001b[0m\u001b[0;34m)\u001b[0m\u001b[0;34m\u001b[0m\u001b[0m\n",
      "\u001b[0;31mTypeError\u001b[0m: 'list' object cannot be interpreted as an integer"
     ]
    }
   ],
   "source": [
    "for i in range(cpu_in_use):\n",
    "    cpu_in_use[i] = cpu_in_use[i].replace('%','')"
   ]
  },
  {
   "cell_type": "code",
   "execution_count": null,
   "metadata": {},
   "outputs": [],
   "source": []
  }
 ],
 "metadata": {
  "kernelspec": {
   "display_name": "Python 3",
   "language": "python",
   "name": "python3"
  },
  "language_info": {
   "codemirror_mode": {
    "name": "ipython",
    "version": 3
   },
   "file_extension": ".py",
   "mimetype": "text/x-python",
   "name": "python",
   "nbconvert_exporter": "python",
   "pygments_lexer": "ipython3",
   "version": "3.7.6"
  }
 },
 "nbformat": 4,
 "nbformat_minor": 5
}
