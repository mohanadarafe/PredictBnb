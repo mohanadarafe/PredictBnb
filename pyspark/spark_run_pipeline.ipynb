{
 "cells": [
  {
   "cell_type": "code",
   "execution_count": 1,
   "metadata": {},
   "outputs": [],
   "source": [
    "from utility import *\n",
    "from functions import *"
   ]
  },
  {
   "cell_type": "code",
   "execution_count": 3,
   "metadata": {},
   "outputs": [
    {
     "name": "stdout",
     "output_type": "stream",
     "text": [
      "Overwriting output2.txt\n"
     ]
    }
   ],
   "source": [
    "%%writefile output2.txt\n",
    "# %%time\n",
    "main_spark()\n"
   ]
  },
  {
   "cell_type": "code",
   "execution_count": 3,
   "metadata": {},
   "outputs": [],
   "source": [
    "%%capture cap --no-stderr\n",
    "main_spark()"
   ]
  },
  {
   "cell_type": "code",
   "execution_count": 4,
   "metadata": {},
   "outputs": [],
   "source": [
    "with open('output2.txt', 'w') as f:\n",
    "    f.write(cap.stdout)"
   ]
  },
  {
   "cell_type": "code",
   "execution_count": 3,
   "metadata": {},
   "outputs": [
    {
     "name": "stdout",
     "output_type": "stream",
     "text": [
      "\n",
      "\n",
      " ********* PROCESS INFO *********\n",
      "\n",
      "Memory in use: 0.18%\n",
      "Memory_usage: 0.03 GiB\n",
      "Uptime: 0:21:31.442531\n",
      "Nb of threads: 6\n",
      "PID: 7682\n",
      "CPU in use: 0.20%\n",
      "Create time: 2021-04-13 10:58:19\n",
      "Time on CPU: 0:00:05.316606\n",
      "Current time: 2021-04-13 11:19:50\n",
      "Process name: python3.5\n",
      "\n",
      "\n",
      " ********* PROCESS INFO *********\n",
      "\n",
      "Memory in use: 0.13%\n",
      "Memory_usage: 0.02 GiB\n",
      "Uptime: 0:21:21.544974\n",
      "Nb of threads: 9\n",
      "PID: 7700\n",
      "CPU in use: 0.00%\n",
      "Create time: 2021-04-13 10:58:29\n",
      "Time on CPU: 0:00:00.879601\n",
      "Current time: 2021-04-13 11:19:50\n",
      "Process name: python3.5\n",
      "\n",
      "\n",
      " ********* PROCESS INFO *********\n",
      "\n",
      "Memory in use: 0.34%\n",
      "Memory_usage: 0.05 GiB\n",
      "Uptime: 0:01:02.032461\n",
      "Nb of threads: 9\n",
      "PID: 7858\n",
      "CPU in use: 0.20%\n",
      "Create time: 2021-04-13 11:18:48\n",
      "Time on CPU: 0:00:01.131430\n",
      "Current time: 2021-04-13 11:19:50\n",
      "Process name: python3.5\n"
     ]
    }
   ],
   "source": [
    "processes = process_info()\n",
    "# type(processes)"
   ]
  },
  {
   "cell_type": "code",
   "execution_count": 4,
   "metadata": {},
   "outputs": [
    {
     "data": {
      "text/plain": [
       "[{'CPU in use': '0.20%',\n",
       "  'Create time': '2021-04-13 10:58:19',\n",
       "  'Current time': '2021-04-13 11:19:50',\n",
       "  'Memory in use': '0.18%',\n",
       "  'Memory_usage': '0.03 GiB',\n",
       "  'Nb of threads': 6,\n",
       "  'PID': 7682,\n",
       "  'Process name': 'python3.5',\n",
       "  'Time on CPU': datetime.timedelta(0, 5, 316606),\n",
       "  'Uptime': datetime.timedelta(0, 1291, 442531)},\n",
       " {'CPU in use': '0.00%',\n",
       "  'Create time': '2021-04-13 10:58:29',\n",
       "  'Current time': '2021-04-13 11:19:50',\n",
       "  'Memory in use': '0.13%',\n",
       "  'Memory_usage': '0.02 GiB',\n",
       "  'Nb of threads': 9,\n",
       "  'PID': 7700,\n",
       "  'Process name': 'python3.5',\n",
       "  'Time on CPU': datetime.timedelta(0, 0, 879601),\n",
       "  'Uptime': datetime.timedelta(0, 1281, 544974)},\n",
       " {'CPU in use': '0.20%',\n",
       "  'Create time': '2021-04-13 11:18:48',\n",
       "  'Current time': '2021-04-13 11:19:50',\n",
       "  'Memory in use': '0.34%',\n",
       "  'Memory_usage': '0.05 GiB',\n",
       "  'Nb of threads': 9,\n",
       "  'PID': 7858,\n",
       "  'Process name': 'python3.5',\n",
       "  'Time on CPU': datetime.timedelta(0, 1, 131430),\n",
       "  'Uptime': datetime.timedelta(0, 62, 32461)}]"
      ]
     },
     "execution_count": 4,
     "metadata": {},
     "output_type": "execute_result"
    }
   ],
   "source": [
    "processes"
   ]
  },
  {
   "cell_type": "code",
   "execution_count": null,
   "metadata": {},
   "outputs": [],
   "source": []
  }
 ],
 "metadata": {
  "kernelspec": {
   "display_name": "Python 3",
   "language": "python",
   "name": "python3"
  },
  "language_info": {
   "codemirror_mode": {
    "name": "ipython",
    "version": 3
   },
   "file_extension": ".py",
   "mimetype": "text/x-python",
   "name": "python",
   "nbconvert_exporter": "python",
   "pygments_lexer": "ipython3",
   "version": "3.7.6"
  }
 },
 "nbformat": 4,
 "nbformat_minor": 5
}
