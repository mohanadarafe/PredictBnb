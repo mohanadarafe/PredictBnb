{
 "cells": [
  {
   "cell_type": "code",
   "execution_count": 97,
   "id": "eastern-course",
   "metadata": {},
   "outputs": [],
   "source": [
    "import dask.dataframe as dd\n",
    "import dask.bag as db\n",
    "from os import path\n",
    "import pandas as pd\n",
    "import csv\n",
    "import multiprocessing\n",
    "from nltk import word_tokenize\n",
    "from sklearn.feature_extraction.text import CountVectorizer\n",
    "from sklearn import preprocessing\n",
    "from dask_ml.model_selection import train_test_split\n",
    "# from sklearn.pipeline import make_pipeline\n",
    "\n",
    "filename_train = \"../dataset/train.csv\"\n",
    "filename_test = \"../dataset/valid.csv\"\n",
    "NUMBER_OF_CPU = multiprocessing.cpu_count()"
   ]
  },
  {
   "cell_type": "markdown",
   "id": "surgical-bailey",
   "metadata": {},
   "source": [
    "# Load data in Dask Dataframe"
   ]
  },
  {
   "cell_type": "code",
   "execution_count": 3,
   "id": "widespread-calvin",
   "metadata": {
    "scrolled": true
   },
   "outputs": [],
   "source": [
    "panda_train = pd.read_csv(filename_train)[0:20]\n",
    "panda_test = pd.read_csv(filename_test)\n",
    "\n",
    "train_df = dd.from_pandas(panda_train, npartitions=1)\n",
    "test_tf = dd.from_pandas(panda_test, npartitions=NUMBER_OF_CPU)"
   ]
  },
  {
   "cell_type": "markdown",
   "id": "hired-retail",
   "metadata": {},
   "source": [
    "Below, we can see that the dataframe is succesfully imported into a Dask dataframe. Now, we need to extract the information we need & build a trainig & testing Dataframe that we will use for the later stages. \n",
    "\n",
    "**We are setting the number of partitions relative to the number of CPUs available in your machine.**"
   ]
  },
  {
   "cell_type": "code",
   "execution_count": 6,
   "id": "tired-secretary",
   "metadata": {},
   "outputs": [
    {
     "name": "stdout",
     "output_type": "stream",
     "text": [
      "Number of partitions: 6\n"
     ]
    },
    {
     "data": {
      "text/html": [
       "<div>\n",
       "<style scoped>\n",
       "    .dataframe tbody tr th:only-of-type {\n",
       "        vertical-align: middle;\n",
       "    }\n",
       "\n",
       "    .dataframe tbody tr th {\n",
       "        vertical-align: top;\n",
       "    }\n",
       "\n",
       "    .dataframe thead th {\n",
       "        text-align: right;\n",
       "    }\n",
       "</style>\n",
       "<table border=\"1\" class=\"dataframe\">\n",
       "  <thead>\n",
       "    <tr style=\"text-align: right;\">\n",
       "      <th></th>\n",
       "      <th>Id</th>\n",
       "      <th>Title</th>\n",
       "      <th>Body</th>\n",
       "      <th>Tags</th>\n",
       "      <th>CreationDate</th>\n",
       "      <th>Y</th>\n",
       "    </tr>\n",
       "  </thead>\n",
       "  <tbody>\n",
       "    <tr>\n",
       "      <th>0</th>\n",
       "      <td>34552656</td>\n",
       "      <td>Java: Repeat Task Every Random Seconds</td>\n",
       "      <td>&lt;p&gt;I'm already familiar with repeating tasks e...</td>\n",
       "      <td>&lt;java&gt;&lt;repeat&gt;</td>\n",
       "      <td>2016-01-01 00:21:59</td>\n",
       "      <td>LQ_CLOSE</td>\n",
       "    </tr>\n",
       "    <tr>\n",
       "      <th>1</th>\n",
       "      <td>34553034</td>\n",
       "      <td>Why are Java Optionals immutable?</td>\n",
       "      <td>&lt;p&gt;I'd like to understand why Java 8 Optionals...</td>\n",
       "      <td>&lt;java&gt;&lt;optional&gt;</td>\n",
       "      <td>2016-01-01 02:03:20</td>\n",
       "      <td>HQ</td>\n",
       "    </tr>\n",
       "    <tr>\n",
       "      <th>2</th>\n",
       "      <td>34553174</td>\n",
       "      <td>Text Overlay Image with Darkened Opacity React...</td>\n",
       "      <td>&lt;p&gt;I am attempting to overlay a title over an ...</td>\n",
       "      <td>&lt;javascript&gt;&lt;image&gt;&lt;overlay&gt;&lt;react-native&gt;&lt;opa...</td>\n",
       "      <td>2016-01-01 02:48:24</td>\n",
       "      <td>HQ</td>\n",
       "    </tr>\n",
       "    <tr>\n",
       "      <th>3</th>\n",
       "      <td>34553318</td>\n",
       "      <td>Why ternary operator in swift is so picky?</td>\n",
       "      <td>&lt;p&gt;The question is very simple, but I just cou...</td>\n",
       "      <td>&lt;swift&gt;&lt;operators&gt;&lt;whitespace&gt;&lt;ternary-operato...</td>\n",
       "      <td>2016-01-01 03:30:17</td>\n",
       "      <td>HQ</td>\n",
       "    </tr>\n",
       "    <tr>\n",
       "      <th>4</th>\n",
       "      <td>34553755</td>\n",
       "      <td>hide/show fab with scale animation</td>\n",
       "      <td>&lt;p&gt;I'm using custom floatingactionmenu. I need...</td>\n",
       "      <td>&lt;android&gt;&lt;material-design&gt;&lt;floating-action-but...</td>\n",
       "      <td>2016-01-01 05:21:48</td>\n",
       "      <td>HQ</td>\n",
       "    </tr>\n",
       "  </tbody>\n",
       "</table>\n",
       "</div>"
      ],
      "text/plain": [
       "         Id                                              Title  \\\n",
       "0  34552656             Java: Repeat Task Every Random Seconds   \n",
       "1  34553034                  Why are Java Optionals immutable?   \n",
       "2  34553174  Text Overlay Image with Darkened Opacity React...   \n",
       "3  34553318         Why ternary operator in swift is so picky?   \n",
       "4  34553755                 hide/show fab with scale animation   \n",
       "\n",
       "                                                Body  \\\n",
       "0  <p>I'm already familiar with repeating tasks e...   \n",
       "1  <p>I'd like to understand why Java 8 Optionals...   \n",
       "2  <p>I am attempting to overlay a title over an ...   \n",
       "3  <p>The question is very simple, but I just cou...   \n",
       "4  <p>I'm using custom floatingactionmenu. I need...   \n",
       "\n",
       "                                                Tags         CreationDate  \\\n",
       "0                                     <java><repeat>  2016-01-01 00:21:59   \n",
       "1                                   <java><optional>  2016-01-01 02:03:20   \n",
       "2  <javascript><image><overlay><react-native><opa...  2016-01-01 02:48:24   \n",
       "3  <swift><operators><whitespace><ternary-operato...  2016-01-01 03:30:17   \n",
       "4  <android><material-design><floating-action-but...  2016-01-01 05:21:48   \n",
       "\n",
       "          Y  \n",
       "0  LQ_CLOSE  \n",
       "1        HQ  \n",
       "2        HQ  \n",
       "3        HQ  \n",
       "4        HQ  "
      ]
     },
     "execution_count": 6,
     "metadata": {},
     "output_type": "execute_result"
    }
   ],
   "source": [
    "print(f'Number of partitions: {NUMBER_OF_CPU}')\n",
    "train_df.head()"
   ]
  },
  {
   "cell_type": "code",
   "execution_count": 72,
   "id": "inappropriate-fossil",
   "metadata": {},
   "outputs": [],
   "source": [
    "def get_question(partition):\n",
    "    title = partition.Title\n",
    "    body = partition.Body\n",
    "    return title + \" \" + body\n",
    "\n",
    "def get_quality(partition):\n",
    "    return partition.Y\n",
    "\n",
    "## Initialize training & testing dask dataframe\n",
    "train_df[\"X_trn\"] = train_df.map_partitions(get_question, meta=str)\n",
    "train_df[\"y_trn\"] = train_df.map_partitions(get_quality, meta=str)\n",
    "test_tf[\"X_trn\"] = test_tf.map_partitions(get_question, meta=str)\n",
    "test_tf[\"y_trn\"] = test_tf.map_partitions(get_quality, meta=str)\n",
    "\n",
    "training = train_df.drop(['Id', 'Title', 'Body', 'CreationDate', 'Y', 'Tags'], axis=1)\n",
    "testing = test_tf.drop(['Id', 'Title', 'Body', 'CreationDate', 'Y', 'Tags'], axis=1)"
   ]
  },
  {
   "cell_type": "markdown",
   "id": "prompt-pizza",
   "metadata": {},
   "source": [
    "Below, you can see our training Dask Dataframe that we created by concatenating the Title & Body and their corresponding output. "
   ]
  },
  {
   "cell_type": "code",
   "execution_count": 8,
   "id": "detailed-syndication",
   "metadata": {},
   "outputs": [
    {
     "name": "stdout",
     "output_type": "stream",
     "text": [
      "                                               X_trn     y_trn\n",
      "0  Java: Repeat Task Every Random Seconds <p>I'm ...  LQ_CLOSE\n",
      "1  Why are Java Optionals immutable? <p>I'd like ...        HQ\n",
      "2  Text Overlay Image with Darkened Opacity React...        HQ\n",
      "3  Why ternary operator in swift is so picky? <p>...        HQ\n",
      "4  hide/show fab with scale animation <p>I'm usin...        HQ\n",
      "\n",
      "<class 'dask.dataframe.core.DataFrame'>\n",
      "X_trn    object\n",
      "y_trn    object\n",
      "dtype: object\n"
     ]
    }
   ],
   "source": [
    "print(training.head())\n",
    "print(f'\\n{type(training)}')\n",
    "print(training.dtypes)"
   ]
  },
  {
   "cell_type": "markdown",
   "id": "sized-patch",
   "metadata": {},
   "source": [
    "# Preprocess Data\n",
    "In this part, we will preprocess our data by cleaning the text. Then, we will build a bag of word model."
   ]
  },
  {
   "cell_type": "markdown",
   "id": "referenced-assurance",
   "metadata": {},
   "source": [
    "### Cleaning data"
   ]
  },
  {
   "cell_type": "code",
   "execution_count": 73,
   "id": "internal-payday",
   "metadata": {},
   "outputs": [],
   "source": [
    "STOPWORDS = [\"why\", \"the\", \"i\"] \n",
    "\n",
    "if isinstance(training.head().loc[1, 'X_trn'], str):\n",
    "    training[\"X_trn\"] = training[\"X_trn\"].str.lower()\n",
    "    training[\"X_trn\"] = training[\"X_trn\"].replace(to_replace=\"(\\\\W)+\", value=' ', regex=True)\n",
    "    training['X_trn'] = training['X_trn'].apply(lambda x: [token for token in x.split(\" \")], meta=str)\n",
    "    training['X_trn'] = training['X_trn'].apply(lambda x: [token for token in x if token not in STOPWORDS], meta=str)\n",
    "    training['X_trn'] = training['X_trn'].apply(lambda x: [token for token in x if token], meta=str)\n",
    "    training['X_trn'] = training['X_trn'].apply(lambda x: \" \".join(x), meta=str)"
   ]
  },
  {
   "cell_type": "code",
   "execution_count": 74,
   "id": "essential-compression",
   "metadata": {},
   "outputs": [
    {
     "name": "stdout",
     "output_type": "stream",
     "text": [
      "java repeat task every random seconds p m already familiar with repeating tasks every n seconds by using java util timer and java util timertask but lets say want to print hello world to console every random seconds from 1 5 unfortunately m in a bit of a rush and don t have any code to show so far any help would be apriciated p\n"
     ]
    }
   ],
   "source": [
    "print(training.head().loc[0, 'X_trn'])\n",
    "# training.head()"
   ]
  },
  {
   "cell_type": "markdown",
   "id": "existing-portland",
   "metadata": {},
   "source": [
    "### Create BoW model"
   ]
  },
  {
   "cell_type": "code",
   "execution_count": 100,
   "id": "wound-coach",
   "metadata": {},
   "outputs": [],
   "source": [
    "# Build BoW model\n",
    "vectorizer = CountVectorizer()\n",
    "encoder = preprocessing.LabelEncoder()\n",
    "\n",
    "X_trn_countMatrix = pd.DataFrame.sparse.from_spmatrix(vectorizer.fit_transform(training['X_trn']))\n",
    "y_trn_encoder = encoder.fit_transform(training['y_trn'])"
   ]
  },
  {
   "cell_type": "code",
   "execution_count": 107,
   "id": "confirmed-poultry",
   "metadata": {},
   "outputs": [],
   "source": [
    "X_train, X_test, y_train, y_test = train_test_split(X_trn_countMatrix, y_trn_encoder,\n",
    "                                                    random_state=0, convert_mixed_types=True)"
   ]
  }
 ],
 "metadata": {
  "kernelspec": {
   "display_name": "Python 3",
   "language": "python",
   "name": "python3"
  },
  "language_info": {
   "codemirror_mode": {
    "name": "ipython",
    "version": 3
   },
   "file_extension": ".py",
   "mimetype": "text/x-python",
   "name": "python",
   "nbconvert_exporter": "python",
   "pygments_lexer": "ipython3",
   "version": "3.9.2"
  }
 },
 "nbformat": 4,
 "nbformat_minor": 5
}
